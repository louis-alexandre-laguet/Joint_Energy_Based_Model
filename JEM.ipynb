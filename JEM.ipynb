{
  "nbformat": 4,
  "nbformat_minor": 0,
  "metadata": {
    "colab": {
      "provenance": [],
      "gpuType": "T4"
    },
    "kernelspec": {
      "name": "python3",
      "display_name": "Python 3"
    },
    "language_info": {
      "name": "python"
    },
    "accelerator": "GPU"
  },
  "cells": [
    {
      "cell_type": "markdown",
      "source": [
        "# Joint Energy-Based Models (JEM)"
      ],
      "metadata": {
        "id": "3ivkR2sHoEY7"
      }
    },
    {
      "cell_type": "markdown",
      "source": [
        "## 1. Understanding Energy-Based Models (EBMs)"
      ],
      "metadata": {
        "id": "v68sVIbk2iOn"
      }
    },
    {
      "cell_type": "code",
      "source": [
        "import torch\n",
        "import torch.nn as nn\n",
        "import torch.optim as optim\n",
        "from torchvision import datasets, transforms\n",
        "from torch.utils.data import DataLoader\n",
        "import numpy as np\n",
        "import random as random\n",
        "import torchvision\n",
        "import matplotlib.pyplot as plt\n",
        "\n",
        "device = torch.device(\"cuda\" if torch.cuda.is_available() else \"cpu\")\n",
        "img_shape = (1, 28, 28)\n",
        "batch_size = 64\n",
        "num_classes = 10\n",
        "lr = 1e-4\n",
        "beta1 = 0.0\n",
        "alpha = 0.1\n",
        "epochs = 10"
      ],
      "metadata": {
        "id": "5ckjpuBVzH8u"
      },
      "execution_count": 40,
      "outputs": []
    },
    {
      "cell_type": "markdown",
      "source": [
        "## 2. Designing the JEM Model"
      ],
      "metadata": {
        "id": "ZH9nJmme3Pg0"
      }
    },
    {
      "cell_type": "code",
      "source": [
        "class Swish(nn.Module):\n",
        "\n",
        "    def forward(self, x):\n",
        "        return x * torch.sigmoid(x)\n",
        "\n",
        "class JEMClassifier(nn.Module):\n",
        "    def __init__(self, hidden_features=32):\n",
        "        super().__init__()\n",
        "        c_hid1 = hidden_features // 2\n",
        "        c_hid2 = hidden_features\n",
        "        c_hid3 = hidden_features * 2\n",
        "\n",
        "        self.cnn_layers = nn.Sequential(\n",
        "            nn.Conv2d(1, c_hid1, kernel_size=5, stride=2, padding=4),  # [16x16]\n",
        "            Swish(),\n",
        "            nn.Conv2d(c_hid1, c_hid2, kernel_size=3, stride=2, padding=1),  # [8x8]\n",
        "            Swish(),\n",
        "            nn.Conv2d(c_hid2, c_hid3, kernel_size=3, stride=2, padding=1),  # [4x4]\n",
        "            Swish(),\n",
        "            nn.Conv2d(c_hid3, c_hid3, kernel_size=3, stride=2, padding=1),  # [2x2]\n",
        "            Swish(),\n",
        "            nn.Flatten()\n",
        "        )\n",
        "        self.fc_energy = nn.Linear(c_hid3 * 4, 1)\n",
        "        self.fc_class = nn.Linear(c_hid3 * 4, num_classes)\n",
        "\n",
        "    def forward(self, x):\n",
        "        features = self.cnn_layers(x)\n",
        "        energy = self.fc_energy(features).squeeze(-1)\n",
        "        logits = self.fc_class(features)\n",
        "        return energy, logits"
      ],
      "metadata": {
        "id": "hXbiSCfA3N6q"
      },
      "execution_count": 41,
      "outputs": []
    },
    {
      "cell_type": "markdown",
      "source": [
        "## 3. Sampling from the Model"
      ],
      "metadata": {
        "id": "vzcqLNmq38y6"
      }
    },
    {
      "cell_type": "code",
      "source": [
        "class Sampler:\n",
        "\n",
        "    def __init__(self, model, img_shape, sample_size, max_len=8192):\n",
        "        \"\"\"\n",
        "        inputs:\n",
        "            model - Neural network to use for modeling E_theta\n",
        "            img_shape - Shape of the images to model\n",
        "            sample_size - Batch size of the samples\n",
        "            max_len - Maximum number of data points to keep in the buffer\n",
        "        \"\"\"\n",
        "        super().__init__()\n",
        "        self.model = model\n",
        "        self.img_shape = img_shape\n",
        "        self.sample_size = sample_size # same as the batch size\n",
        "        self.max_len = max_len\n",
        "        self.examples = [(torch.rand((1,)+img_shape)*2-1) for _ in range(self.sample_size)]\n",
        "\n",
        "    def sample_new_exmps(self, steps=60, step_size=10):\n",
        "        \"\"\"\n",
        "        generates fake samples using the replay buffer and MCMC\n",
        "        \"\"\"\n",
        "        device = next(self.model.parameters()).device\n",
        "\n",
        "        ## see on the training algo - 95% of chances to get from the buffer and 5% from random noise\n",
        "        n_new = np.random.binomial(self.sample_size, 0.05)\n",
        "        rand_imgs = torch.rand((n_new,) + self.img_shape, device=device) * 2 - 1\n",
        "        old_imgs = torch.cat(random.choices(self.examples, k=self.sample_size - n_new), dim=0).to(device)\n",
        "        inp_imgs = torch.cat([rand_imgs, old_imgs], dim=0).detach()\n",
        "\n",
        "        ## MCMC sampling\n",
        "        inp_imgs = Sampler.generate_samples(self.model, inp_imgs, steps=steps, step_size=step_size)\n",
        "\n",
        "        ## update buffer\n",
        "        self.examples = list(inp_imgs.cpu().chunk(self.sample_size, dim=0)) + self.examples\n",
        "        self.examples = self.examples[:self.max_len]\n",
        "        return inp_imgs\n",
        "\n",
        "\n",
        "    @staticmethod\n",
        "    def generate_samples(model, inp_imgs, steps=60, step_size=10, return_img_per_step=False):\n",
        "        \"\"\"\n",
        "        MCMC step\n",
        "        \"\"\"\n",
        "        device = inp_imgs.device\n",
        "        is_training = model.training\n",
        "        model.eval()\n",
        "\n",
        "        #before MCMC: freeze the model\n",
        "        #we are only interested in the gradients of the input.\n",
        "        for p in model.parameters():\n",
        "            p.requires_grad = False\n",
        "        inp_imgs.requires_grad = True\n",
        "\n",
        "        had_gradients_enabled = torch.is_grad_enabled()\n",
        "        torch.set_grad_enabled(True)\n",
        "\n",
        "        noise = torch.randn(inp_imgs.shape, device=device)\n",
        "\n",
        "        imgs_per_step = []\n",
        "\n",
        "        for _ in range(steps): #the MCMC interation steps\n",
        "            noise.normal_(0, 0.005)\n",
        "            inp_imgs.data.add_(noise.data)\n",
        "            inp_imgs.data.clamp_(min=-1.0, max=1.0)\n",
        "\n",
        "            out_imgs = -model(inp_imgs)[0] #only modification from the usual EBM sampler\n",
        "            out_imgs.sum().backward()\n",
        "            inp_imgs.grad.data.clamp_(-0.03, 0.03)\n",
        "\n",
        "            inp_imgs.data.add_(-step_size * inp_imgs.grad.data)\n",
        "            inp_imgs.grad.detach_()\n",
        "            inp_imgs.grad.zero_()\n",
        "            inp_imgs.data.clamp_(min=-1.0, max=1.0)\n",
        "\n",
        "            if return_img_per_step:\n",
        "                imgs_per_step.append(inp_imgs.clone().detach())\n",
        "\n",
        "        for p in model.parameters():\n",
        "            p.requires_grad = True\n",
        "        model.train(is_training)\n",
        "        torch.set_grad_enabled(had_gradients_enabled)\n",
        "\n",
        "        if return_img_per_step:\n",
        "            return torch.stack(imgs_per_step, dim=0)\n",
        "        else:\n",
        "            return inp_imgs"
      ],
      "metadata": {
        "id": "GjR-TZ4K39p2"
      },
      "execution_count": 42,
      "outputs": []
    },
    {
      "cell_type": "markdown",
      "source": [
        "## 4. Loss Function"
      ],
      "metadata": {
        "id": "L56qsswl6Png"
      }
    },
    {
      "cell_type": "code",
      "source": [
        "transform = transforms.Compose([\n",
        "    transforms.ToTensor(),\n",
        "    transforms.Normalize((0.5,), (0.5,))\n",
        "])\n",
        "\n",
        "train_dataset = datasets.MNIST(root=\"./data\", train=True, transform=transform, download=True)\n",
        "val_dataset = datasets.MNIST(root=\"./data\", train=False, transform=transform, download=True)\n",
        "\n",
        "train_loader = DataLoader(train_dataset, batch_size=batch_size, shuffle=True)\n",
        "val_loader = DataLoader(val_dataset, batch_size=batch_size, shuffle=False)\n",
        "\n",
        "model = JEMClassifier(hidden_features=32).to(device)\n",
        "optimizer = optim.Adam(model.parameters(), lr=lr, betas=(beta1, 0.999))\n",
        "scheduler = optim.lr_scheduler.StepLR(optimizer, step_size=1, gamma=0.97)\n",
        "sampler = Sampler(model, img_shape=(1, 28, 28), sample_size=batch_size)\n",
        "\n",
        "\n",
        "def jem_loss(energy_real, energy_fake, logits, labels, alpha):\n",
        "    min_batch_size = min(energy_real.size(0), energy_fake.size(0))\n",
        "    energy_real = energy_real[:min_batch_size]\n",
        "    energy_fake = energy_fake[:min_batch_size]\n",
        "\n",
        "    reg_loss = alpha * (energy_real ** 2 + energy_fake ** 2).mean()\n",
        "    cdiv_loss = energy_fake.mean() - energy_real.mean()\n",
        "\n",
        "    class_loss = nn.CrossEntropyLoss()(logits, labels)\n",
        "\n",
        "    total_loss = reg_loss + cdiv_loss + class_loss\n",
        "    return total_loss, reg_loss, cdiv_loss, class_loss"
      ],
      "metadata": {
        "colab": {
          "base_uri": "https://localhost:8080/"
        },
        "id": "qB5tJeHm6SeJ",
        "outputId": "45720ede-42e9-4579-9a08-feed4ef1f01e"
      },
      "execution_count": 43,
      "outputs": [
        {
          "output_type": "stream",
          "name": "stderr",
          "text": [
            "100%|██████████| 9.91M/9.91M [00:00<00:00, 17.1MB/s]\n",
            "100%|██████████| 28.9k/28.9k [00:00<00:00, 455kB/s]\n",
            "100%|██████████| 1.65M/1.65M [00:00<00:00, 4.17MB/s]\n",
            "100%|██████████| 4.54k/4.54k [00:00<00:00, 8.16MB/s]\n"
          ]
        }
      ]
    },
    {
      "cell_type": "markdown",
      "source": [
        "## 5. Training Process"
      ],
      "metadata": {
        "id": "SboTdkKF6epH"
      }
    },
    {
      "cell_type": "code",
      "source": [
        "for epoch in range(epochs):\n",
        "    model.train()\n",
        "    train_loss, reg_loss, cdiv_loss, class_loss = 0, 0, 0, 0\n",
        "\n",
        "    for real_imgs, labels in train_loader:\n",
        "        real_imgs, labels = real_imgs.to(device), labels.to(device)\n",
        "\n",
        "        small_noise = torch.randn_like(real_imgs) * 0.005\n",
        "        real_imgs = real_imgs + small_noise\n",
        "        real_imgs = real_imgs.clamp(min=-1.0, max=1.0)\n",
        "\n",
        "        fake_imgs = sampler.sample_new_exmps(steps=60, step_size=10)\n",
        "\n",
        "        energy_real, logits_real = model(real_imgs)\n",
        "        energy_fake, _ = model(fake_imgs)\n",
        "\n",
        "        loss, r_loss, c_loss, cls_loss = jem_loss(\n",
        "            energy_real, energy_fake, logits_real, labels, alpha\n",
        "        )\n",
        "\n",
        "        optimizer.zero_grad()\n",
        "        loss.backward()\n",
        "        optimizer.step()\n",
        "\n",
        "        train_loss += loss.item()\n",
        "        reg_loss += r_loss.item()\n",
        "        cdiv_loss += c_loss.item()\n",
        "        class_loss += cls_loss.item()\n",
        "\n",
        "    scheduler.step()\n",
        "\n",
        "    model.eval()\n",
        "    correct = 0\n",
        "    total = 0\n",
        "    with torch.no_grad():\n",
        "        for val_imgs, val_labels in val_loader:\n",
        "            val_imgs, val_labels = val_imgs.to(device), val_labels.to(device)\n",
        "            _, logits_val = model(val_imgs)\n",
        "            predictions = torch.argmax(logits_val, dim=1)\n",
        "            correct += (predictions == val_labels).sum().item()\n",
        "            total += val_labels.size(0)\n",
        "\n",
        "    accuracy = correct / total\n",
        "    print(f\"Epoch {epoch + 1}/{epochs}\")\n",
        "    print(f\"Train Loss: {train_loss / len(train_loader):.4f}, Reg Loss: {reg_loss / len(train_loader):.4f}, \"\n",
        "          f\"CDiv Loss: {cdiv_loss / len(train_loader):.4f}, Class Loss: {class_loss / len(train_loader):.4f}\")\n",
        "    print(f\"Validation Accuracy: {accuracy:.4f}\")"
      ],
      "metadata": {
        "colab": {
          "base_uri": "https://localhost:8080/"
        },
        "id": "I5IRxtca6hL2",
        "outputId": "e009d845-27eb-4805-c33c-8b38618f77c7"
      },
      "execution_count": 44,
      "outputs": [
        {
          "output_type": "stream",
          "name": "stdout",
          "text": [
            "Epoch 1/10\n",
            "Train Loss: 1.0443, Reg Loss: 0.0398, CDiv Loss: -0.0429, Class Loss: 1.0474\n",
            "Validation Accuracy: 0.8575\n",
            "Epoch 2/10\n",
            "Train Loss: 0.4401, Reg Loss: 0.0107, CDiv Loss: 0.0242, Class Loss: 0.4052\n",
            "Validation Accuracy: 0.8962\n",
            "Epoch 3/10\n",
            "Train Loss: 0.3441, Reg Loss: 0.0042, CDiv Loss: 0.0306, Class Loss: 0.3093\n",
            "Validation Accuracy: 0.9174\n",
            "Epoch 4/10\n",
            "Train Loss: 0.2806, Reg Loss: 0.0029, CDiv Loss: 0.0271, Class Loss: 0.2507\n",
            "Validation Accuracy: 0.9347\n",
            "Epoch 5/10\n",
            "Train Loss: 0.2295, Reg Loss: 0.0033, CDiv Loss: 0.0211, Class Loss: 0.2050\n",
            "Validation Accuracy: 0.9472\n",
            "Epoch 6/10\n",
            "Train Loss: 0.1903, Reg Loss: 0.0033, CDiv Loss: 0.0165, Class Loss: 0.1705\n",
            "Validation Accuracy: 0.9555\n",
            "Epoch 7/10\n",
            "Train Loss: 0.1640, Reg Loss: 0.0026, CDiv Loss: 0.0158, Class Loss: 0.1456\n",
            "Validation Accuracy: 0.9645\n",
            "Epoch 8/10\n",
            "Train Loss: 0.1449, Reg Loss: 0.0023, CDiv Loss: 0.0161, Class Loss: 0.1265\n",
            "Validation Accuracy: 0.9652\n",
            "Epoch 9/10\n",
            "Train Loss: 0.1296, Reg Loss: 0.0020, CDiv Loss: 0.0151, Class Loss: 0.1125\n",
            "Validation Accuracy: 0.9681\n",
            "Epoch 10/10\n",
            "Train Loss: 0.1170, Reg Loss: 0.0018, CDiv Loss: 0.0132, Class Loss: 0.1020\n",
            "Validation Accuracy: 0.9682\n"
          ]
        }
      ]
    },
    {
      "cell_type": "markdown",
      "source": [
        "## 6. Generating Images"
      ],
      "metadata": {
        "id": "mPP-jNon6lSO"
      }
    },
    {
      "cell_type": "code",
      "source": [
        "def generate_images_with_sampler(model, sampler, num_images=16, steps=60, step_size=10):\n",
        "    model.eval()\n",
        "    with torch.no_grad():\n",
        "        generated_imgs = sampler.sample_new_exmps(steps=steps, step_size=step_size)\n",
        "        generated_imgs = generated_imgs[:num_images].detach()\n",
        "\n",
        "    return generated_imgs.cpu()\n",
        "\n",
        "\n",
        "def plot_generated_images(images, num_cols=4):\n",
        "    num_images = images.size(0)\n",
        "    num_rows = (num_images + num_cols - 1) // num_cols\n",
        "\n",
        "    images = (images + 1) / 2\n",
        "\n",
        "    fig, axes = plt.subplots(num_rows, num_cols, figsize=(num_cols * 2, num_rows * 2))\n",
        "    axes = axes.flatten()\n",
        "\n",
        "    for i, ax in enumerate(axes):\n",
        "        if i < num_images:\n",
        "            img = images[i].squeeze(0).numpy()\n",
        "            ax.imshow(img, cmap=\"gray\")\n",
        "            ax.axis(\"off\")\n",
        "        else:\n",
        "            ax.axis(\"off\")\n",
        "    plt.tight_layout()\n",
        "    plt.show()\n",
        "\n",
        "\n",
        "num_images = 16\n",
        "generated_images = generate_images_with_sampler(model, sampler, num_images=num_images, steps=2000, step_size=0.1)\n",
        "\n",
        "plot_generated_images(generated_images)"
      ],
      "metadata": {
        "colab": {
          "base_uri": "https://localhost:8080/",
          "height": 807
        },
        "id": "myJnh7CD6nk2",
        "outputId": "882f2cd9-3838-4d2d-d6a4-7fab4cb9024d"
      },
      "execution_count": 45,
      "outputs": [
        {
          "output_type": "display_data",
          "data": {
            "text/plain": [
              "<Figure size 800x800 with 16 Axes>"
            ],
            "image/png": "[encoded data removed]"
          },
          "metadata": {}
        }
      ]
    }
  ]
}